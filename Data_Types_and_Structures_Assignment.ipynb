{
  "nbformat": 4,
  "nbformat_minor": 0,
  "metadata": {
    "colab": {
      "provenance": []
    },
    "kernelspec": {
      "name": "python3",
      "display_name": "Python 3"
    },
    "language_info": {
      "name": "python"
    }
  },
  "cells": [
    {
      "cell_type": "markdown",
      "source": [
        "**Q1. What are data structures, and why are they important?**\n",
        "\n",
        "    -> A data structure is a organized and storing data so that it can be manipulated and accessed efficiently.\n",
        "\n",
        "    Choosing the right data structure significantly impacts the efficiency and performance of your program.\n",
        "    Well-chosen data structures can:\n",
        "    Simplify data manipulation (adding, removing, modifying elements)\n",
        "    Optimize searching and sorting operations\n",
        "    Conserve memory usage"
      ],
      "metadata": {
        "id": "PyPPe65St5tY"
      }
    },
    {
      "cell_type": "markdown",
      "source": [
        "**Q2. Explain the difference between mutable and immutable data types with examples?**\n",
        "\n",
        "    -> Mutable Data Types\n",
        "       Mutable objects can be changed after their creation. This means you can modify their content without creating a new object. Lists (list),\n",
        "       Dictionaries (dict),Sets (set)\n",
        "       \n",
        "    -> Immutable Data Types\n",
        "      Immutable objects cannot be changed after their creation. Any modification results in the creation of a new object. Strings (str),Tuples (tuple),Frozensets (frozenset)"
      ],
      "metadata": {
        "id": "StITpNVtuyTd"
      }
    },
    {
      "cell_type": "markdown",
      "source": [
        "**Q3. What are the main differences between lists and tuples in Python?**\n",
        "\n",
        "    -> lists are mutable, meaning their elements can be changed, while tuples are immutable and cannot be modified after creation. Lists use [] and support many methods like append() and remove(), making them suitable for dynamic data. Tuples use () and are faster, more memory-efficient, and can be used as dictionary keys if they contain only immutable elements. Use lists for changeable data and tuples for fixed, constant data."
      ],
      "metadata": {
        "id": "DyCXMlNcwK6X"
      }
    },
    {
      "cell_type": "markdown",
      "source": [
        "**Q4 Describe how dictionaries store data?**\n",
        "\n",
        "    -> dictionaries store data as key-value pairs inside curly braces {}. Each key must be unique and immutable (like a string, number, or tuple), while values can be of any type and can repeat.\n",
        "    Example:\n",
        "         student = {\"name\": \"Alice\", \"age\": 20, \"grade\": \"A\"}"
      ],
      "metadata": {
        "id": "vek9agPtsN4P"
      }
    },
    {
      "cell_type": "markdown",
      "source": [
        "**Q5. Why might you use a set instead of a list in Python?**\n",
        "\n",
        "    -> We might use a set instead of a list in Python when:\n",
        "\n",
        "       We need unique values – Sets automatically remove duplicates.\n",
        "\n",
        "       Fast membership testing – Checking if an item exists in a set is faster (O(1)) than in a list (O(n)).\n",
        "\n",
        "      Set operations – Sets support efficient operations like union, intersection, and difference."
      ],
      "metadata": {
        "id": "8HCKF0GVsyCI"
      }
    },
    {
      "cell_type": "markdown",
      "source": [
        "**Q6. What is a string in Python, and how is it different from a list?**\n",
        "\n",
        "    -> A string in Python is an immutable sequence of characters, enclosed in quotes (' ' or \" \"), used to represent text. A list, by contrast, is a mutable sequence that can store elements of any data type, including strings, numbers, or even other lists."
      ],
      "metadata": {
        "id": "sdJJQPxKtSvH"
      }
    },
    {
      "cell_type": "markdown",
      "source": [
        "**Q7. How do tuples ensure data integrity in Python?**\n",
        "\n",
        "    -> Tuples ensure data integrity in Python by being immutable, meaning their contents cannot be changed after creation. This immutability guarantees that once a tuple is defined, its data stays the same throughout the program, preventing accidental modifications."
      ],
      "metadata": {
        "id": "aD6YSq1atwvi"
      }
    },
    {
      "cell_type": "markdown",
      "source": [
        "**Q8. What is a hash table, and how does it relate to dictionaries in Python?**\n",
        "\n",
        "    -> A hash table is a data structure that stores data in an array-like format using a hash function to compute an index (called a hash) for each key. This allows for fast data retrieval, typically in constant time (O(1)).\n",
        "\n",
        "     dictionaries are implemented using hash tables. Each key in a dictionary is passed through a hash function, which determines where the key-value pair is stored in memory. When you look up a key, Python uses the hash to quickly find the associated value."
      ],
      "metadata": {
        "id": "S1_51i4OuOq_"
      }
    },
    {
      "cell_type": "markdown",
      "source": [
        "**Q9. Can lists contain different data types in Python?**\n",
        "\n",
        "    -> Yes, lists in Python can contain different data types. A single list can hold elements like integers, strings, floats, other lists, or even objects."
      ],
      "metadata": {
        "id": "JslnTZOV5GFA"
      }
    },
    {
      "cell_type": "markdown",
      "source": [
        "**Q10. Explain why strings are immutable in Python?**\n",
        "\n",
        "    ->Strings are immutable in Python to ensure data integrity, consistent hashing, and memory efficiency. This means once a string is created, it cannot be changed, which makes it safe to use as dictionary keys and allows for optimizations like string interning. Immutability also prevents accidental modifications and ensures thread safety in multi-threaded programs."
      ],
      "metadata": {
        "id": "QGAEzDSv5bpp"
      }
    },
    {
      "cell_type": "markdown",
      "source": [
        "**Q11. What advantages do dictionaries offer over lists for certain tasks?**\n",
        "\n",
        "    ->Dictionaries in Python offer faster lookups and more readable key-based access compared to lists. They are ideal for tasks where data needs to be retrieved using meaningful identifiers rather than numeric indexes. This makes dictionaries better suited for storing and accessing structured data like configurations, records, or mappings."
      ],
      "metadata": {
        "id": "pzBk3SK950tV"
      }
    },
    {
      "cell_type": "markdown",
      "source": [
        "**Q12.  Describe a scenario where using a tuple would be preferable over a list?**\n",
        "\n",
        "    ->A tuple is preferable over a list when you need to store a fixed set of values that should not change throughout the program. For example, storing geographic coordinates like (latitude, longitude) or days of the week is ideal with a tuple, as it ensures data integrity and prevents accidental modification. Tuples are also faster and can be used as dictionary keys, unlike lists."
      ],
      "metadata": {
        "id": "t1noP-S_6Kxm"
      }
    },
    {
      "cell_type": "markdown",
      "source": [
        "**Q13. How do sets handle duplicate values in Python?**\n",
        "\n",
        "    ->In Python, sets automatically remove duplicate values. When you create a set, any repeated elements are stored only once, ensuring all items are unique.\n",
        "\n",
        "     Example:\n",
        "\n",
        "      s = set([1, 2, 2, 3, 3, 3])\n",
        "      print(s)  # Output: {1, 2, 3}\n",
        "\n",
        "    This behavior makes sets ideal for tasks that require distinct elements, like removing duplicates from a list."
      ],
      "metadata": {
        "id": "Kcda5cZE6hSG"
      }
    },
    {
      "cell_type": "markdown",
      "source": [
        "**Q14. How does the “in” keyword work differently for lists and dictionaries?**\n",
        "\n",
        "    -> The in keyword works differently for lists and dictionaries in Python:\n",
        "\n",
        "        In a list, in checks if a value exists in the list.\n",
        "         3 in [1, 2, 3]  # True\n",
        "       In a dictionary, in checks if a key exists, not a value.\n",
        "\n",
        "        \"name\" in {\"name\": \"Alice\", \"age\": 25}  # True\n",
        "        \"Alice\" in {\"name\": \"Alice\", \"age\": 25}  # False\n",
        "\n",
        "    in list → checks for value\n",
        "\n",
        "    in dict → checks for key"
      ],
      "metadata": {
        "id": "7DQAKox968d0"
      }
    },
    {
      "cell_type": "markdown",
      "source": [
        "**Q15. Can you modify the elements of a tuple? Explain why or why not.**\n",
        "\n",
        "    -> No, you cannot modify the elements of a tuple because tuples are immutable in Python. Once a tuple is created, its contents cannot be changed—this means you cannot add, remove, or alter any element.\n",
        "\n",
        "     Why?\n",
        "    Immutability ensures data integrity, allows tuples to be hashable (usable as dictionary keys), and improves performance and memory efficiency. Attempting to modify a tuple will raise a TypeError.\n",
        "\n",
        "     Example:\n",
        "\n",
        "      t = (1, 2, 3)\n",
        "      t[0] = 10  # TypeError: 'tuple' object does not support item assignment\n"
      ],
      "metadata": {
        "id": "pc9vYz9r7lOg"
      }
    },
    {
      "cell_type": "markdown",
      "source": [
        "**Q16. What is a nested dictionary, and give an example of its use case?**\n",
        "\n",
        "    -> A nested dictionary is a dictionary where values are themselves dictionaries. It allows you to store structured, hierarchical data.\n",
        "     Example:\n",
        "     student = {\n",
        "    \"name\": \"Alice\",\n",
        "    \"grades\": {\n",
        "        \"math\": 90,\n",
        "        \"science\": 85\n",
        "    },\n",
        "    \"age\": 16\n",
        "  }\n"
      ],
      "metadata": {
        "id": "cf0KbTONDWR2"
      }
    },
    {
      "cell_type": "markdown",
      "source": [
        "**Q17. Describe the time complexity of accessing elements in a dictionary?**\n",
        "\n",
        "    -> Accessing elements in a dictionary in Python has an average time complexity of O(1) (constant time). This is because dictionaries use a hash table internally, allowing fast lookups by key.\n",
        "\n",
        "     However, in rare worst-case scenarios (like many hash collisions), the time complexity can degrade to O(n), though Python's implementation minimizes this risk.\n",
        "\n",
        "    In short: Dictionary lookups are generally very fast and efficient due to their hashing mechanism."
      ],
      "metadata": {
        "id": "0AGtTExxET0r"
      }
    },
    {
      "cell_type": "markdown",
      "source": [
        "**Q18. In what situations are lists preferred over dictionaries?**\n",
        "\n",
        "    -> Lists are preferred over dictionaries in Python when:\n",
        "\n",
        "     Order matters – Lists maintain the order of elements by index.\n",
        "\n",
        "     You only need values – Lists are simpler when you don't need key-value pairs.\n",
        "\n",
        "     Sequential data – Ideal for storing items like numbers, names, or tasks in a specific order.\n",
        "\n",
        "     Index-based access – When accessing elements by position, not by name or key.\n",
        "\n",
        "     Example: Use a list to store a sequence of scores:"
      ],
      "metadata": {
        "id": "C0VRMxlzFTmM"
      }
    },
    {
      "cell_type": "markdown",
      "source": [
        "**Q19. Why are dictionaries considered unordered, and how does that affect data retrieval?**\n",
        "\n",
        "    -> Dictionaries were considered unordered in Python versions before 3.7, meaning they didn’t preserve the insertion order of key-value pairs. Starting from Python 3.7+, dictionaries preserve insertion order, but they are still often described as logically unordered because key-value pairs are accessed by key, not position.\n",
        "\n",
        "     How it affects data retrieval:\n",
        "     You retrieve values by key, not by index.\n",
        "\n",
        "     The order of items should not be relied on for logic or output (especially in older versions).\n",
        "\n",
        "     For consistent ordering, use OrderedDict (in older Python) or sort keys manually."
      ],
      "metadata": {
        "id": "FoFIXvLgGfiB"
      }
    },
    {
      "cell_type": "markdown",
      "source": [
        "**Q20. Explain the difference between a list and a dictionary in terms of data retrieval.**\n",
        "\n",
        "    -> The main difference between a list and a dictionary in terms of data retrieval lies in how elements are accessed:\n",
        "\n",
        "     In a list, data is retrieved using a numeric index (position in the sequence).\n",
        "        Example:\n",
        "            my_list = [\"apple\", \"banana\", \"cherry\"]\n",
        "            print(my_list[1])  # Output: banana\n",
        "\n",
        "     In a dictionary, data is retrieved using a key (a unique identifier).\n",
        "        Example:\n",
        "           my_dict = {\"fruit1\": \"apple\", \"fruit2\": \"banana\"}\n",
        "           print(my_dict[\"fruit2\"])  # Output: banana\n"
      ],
      "metadata": {
        "id": "M48dWGhmH5N5"
      }
    },
    {
      "cell_type": "markdown",
      "source": [
        "###                                 **PRACTICAL QUESTIONS**"
      ],
      "metadata": {
        "id": "EyzfA3WEIdjL"
      }
    },
    {
      "cell_type": "markdown",
      "source": [
        "**Q1. Write a code to create a string with your name and print it.**"
      ],
      "metadata": {
        "id": "PeXTx99qIk8O"
      }
    },
    {
      "cell_type": "code",
      "source": [
        "name = \"Sakshi Upadhyay\"\n",
        "print(\"My name is:\", name)\n"
      ],
      "metadata": {
        "colab": {
          "base_uri": "https://localhost:8080/"
        },
        "id": "UlXqy7noItnW",
        "outputId": "f8d80d2e-34f6-4ed8-e2db-661fbcf3ac21"
      },
      "execution_count": 1,
      "outputs": [
        {
          "output_type": "stream",
          "name": "stdout",
          "text": [
            "My name is: Sakshi Upadhyay\n"
          ]
        }
      ]
    },
    {
      "cell_type": "markdown",
      "source": [
        "**Q2. Write a code to find the length of the string \"Hello World\".**"
      ],
      "metadata": {
        "id": "17Aw_986I3z2"
      }
    },
    {
      "cell_type": "code",
      "source": [
        "str = \"Hello World\"\n",
        "length = len(str)\n",
        "print(\"Length of the string is:\", length)"
      ],
      "metadata": {
        "colab": {
          "base_uri": "https://localhost:8080/"
        },
        "id": "Uanh1nnYI-kX",
        "outputId": "ba9e01c3-f2fb-4b51-c2e9-7f70183775be"
      },
      "execution_count": 3,
      "outputs": [
        {
          "output_type": "stream",
          "name": "stdout",
          "text": [
            "Length of the string is: 11\n"
          ]
        }
      ]
    },
    {
      "cell_type": "markdown",
      "source": [
        "**Q3.  Write a code to slice the first 3 characters from the string \"Python Programming\".**"
      ],
      "metadata": {
        "id": "PiKjsweDJQb3"
      }
    },
    {
      "cell_type": "code",
      "source": [
        "str = \"Python Programming\"\n",
        "sliced = str[:3]\n",
        "print(\"First 3 characters:\", sliced)"
      ],
      "metadata": {
        "colab": {
          "base_uri": "https://localhost:8080/"
        },
        "id": "OK_Z9OO_JXXl",
        "outputId": "1bd67241-2c7f-439d-d702-a1890ccdbd6c"
      },
      "execution_count": 5,
      "outputs": [
        {
          "output_type": "stream",
          "name": "stdout",
          "text": [
            "First 3 characters: Pyt\n"
          ]
        }
      ]
    },
    {
      "cell_type": "markdown",
      "source": [
        "**Q4. Write a code to convert the string \"hello\" to uppercase.**"
      ],
      "metadata": {
        "id": "KtE8R066JmSO"
      }
    },
    {
      "cell_type": "code",
      "source": [
        "str = \"hello\"\n",
        "uppercase = str.upper()\n",
        "print(\"Uppercase of the string is : \",uppercase)"
      ],
      "metadata": {
        "colab": {
          "base_uri": "https://localhost:8080/"
        },
        "id": "gtqaAPwoJr_x",
        "outputId": "8605c2e9-96de-49ed-f25f-c45771d6ce83"
      },
      "execution_count": 6,
      "outputs": [
        {
          "output_type": "stream",
          "name": "stdout",
          "text": [
            "Uppercase of the string is :  HELLO\n"
          ]
        }
      ]
    },
    {
      "cell_type": "markdown",
      "source": [
        "**Q5. Write a code to replace the word \"apple\" with \"orange\" in the string \"I like apple\".**"
      ],
      "metadata": {
        "id": "7tcnpkVlKD-R"
      }
    },
    {
      "cell_type": "code",
      "source": [
        "text = \"I like apple\"\n",
        "new_text = text.replace(\"apple\", \"orange\")\n",
        "print(new_text)"
      ],
      "metadata": {
        "colab": {
          "base_uri": "https://localhost:8080/"
        },
        "id": "AEs0_dgHKMXn",
        "outputId": "9df40a53-b11b-422b-e50f-2bb1280a125a"
      },
      "execution_count": 7,
      "outputs": [
        {
          "output_type": "stream",
          "name": "stdout",
          "text": [
            "I like orange\n"
          ]
        }
      ]
    },
    {
      "cell_type": "markdown",
      "source": [
        "**Q6. Write a code to create a list with numbers 1 to 5 and print it**"
      ],
      "metadata": {
        "id": "tS8F4_nlKWbi"
      }
    },
    {
      "cell_type": "code",
      "source": [
        "numbers = [1, 2, 3, 4, 5]\n",
        "print(\"List of numbers:\", numbers)\n"
      ],
      "metadata": {
        "colab": {
          "base_uri": "https://localhost:8080/"
        },
        "id": "ZgLTpki5KhkV",
        "outputId": "f2a0850c-44f8-4408-b486-1f4980165cc9"
      },
      "execution_count": 8,
      "outputs": [
        {
          "output_type": "stream",
          "name": "stdout",
          "text": [
            "List of numbers: [1, 2, 3, 4, 5]\n"
          ]
        }
      ]
    },
    {
      "cell_type": "markdown",
      "source": [
        "**Q7. Write a code to append the number 10 to the list [1, 2, 3, 4].**"
      ],
      "metadata": {
        "id": "NOWSm3NMKo90"
      }
    },
    {
      "cell_type": "code",
      "source": [
        "numbers = [1, 2, 3, 4]\n",
        "numbers.append(10)\n",
        "print(\"Updated list:\", numbers)\n"
      ],
      "metadata": {
        "colab": {
          "base_uri": "https://localhost:8080/"
        },
        "id": "PC2kzOI6Ku_k",
        "outputId": "7ab2327c-e4b0-4504-8b29-aca6d86d82fb"
      },
      "execution_count": 9,
      "outputs": [
        {
          "output_type": "stream",
          "name": "stdout",
          "text": [
            "Updated list: [1, 2, 3, 4, 10]\n"
          ]
        }
      ]
    },
    {
      "cell_type": "markdown",
      "source": [
        "**Q8. Write a code to remove the number 3 from the list [1, 2, 3, 4, 5]**"
      ],
      "metadata": {
        "id": "as440q49K072"
      }
    },
    {
      "cell_type": "code",
      "source": [
        "numbers = [1,2,3,4,5]\n",
        "numbers.remove(3)\n",
        "print(\"Updated list:\", numbers)"
      ],
      "metadata": {
        "colab": {
          "base_uri": "https://localhost:8080/"
        },
        "id": "5JnGIKtfK89_",
        "outputId": "d0e8d933-3f8e-49ee-c1f7-8730962261af"
      },
      "execution_count": 10,
      "outputs": [
        {
          "output_type": "stream",
          "name": "stdout",
          "text": [
            "Updated list: [1, 2, 4, 5]\n"
          ]
        }
      ]
    },
    {
      "cell_type": "markdown",
      "source": [
        "**Q9. Write a code to access the second element in the list ['a', 'b', 'c', 'd'].**"
      ],
      "metadata": {
        "id": "j_qKIHASLNhN"
      }
    },
    {
      "cell_type": "code",
      "source": [
        "my_list = ['a','b','c','d']\n",
        "print(\"Second element in the list is : \", my_list[1])"
      ],
      "metadata": {
        "colab": {
          "base_uri": "https://localhost:8080/"
        },
        "id": "PDkJIriLLU_2",
        "outputId": "d504776c-d9fd-4705-e740-575ec64c04e6"
      },
      "execution_count": 11,
      "outputs": [
        {
          "output_type": "stream",
          "name": "stdout",
          "text": [
            "Second element in the list is :  b\n"
          ]
        }
      ]
    },
    {
      "cell_type": "markdown",
      "source": [
        "**Q10. Write a code to reverse the list [10, 20, 30, 40, 50].**"
      ],
      "metadata": {
        "id": "V4P0mE9yLqIf"
      }
    },
    {
      "cell_type": "code",
      "source": [
        "numbers = [10,20,30,40,50]\n",
        "numbers.reverse()\n",
        "print(\"Reverse list is : \", numbers)"
      ],
      "metadata": {
        "colab": {
          "base_uri": "https://localhost:8080/"
        },
        "id": "JeBx2Eb_Lve3",
        "outputId": "77372219-aaa1-4d2c-dbcd-b636f311d6ea"
      },
      "execution_count": 15,
      "outputs": [
        {
          "output_type": "stream",
          "name": "stdout",
          "text": [
            "Reverse list is :  [50, 40, 30, 20, 10]\n"
          ]
        }
      ]
    },
    {
      "cell_type": "markdown",
      "source": [
        "**Q11. Write a code to create a tuple with the elements 100, 200, 300 and print it.**"
      ],
      "metadata": {
        "id": "pH_msCNwMUe8"
      }
    },
    {
      "cell_type": "code",
      "source": [
        "my_tuple = (100,200,300)\n",
        "print(my_tuple)"
      ],
      "metadata": {
        "colab": {
          "base_uri": "https://localhost:8080/"
        },
        "id": "7T7NHrrkMaAw",
        "outputId": "f6745ac7-0491-4c6c-a24c-e8661c0ff7d3"
      },
      "execution_count": 17,
      "outputs": [
        {
          "output_type": "stream",
          "name": "stdout",
          "text": [
            "(100, 200, 300)\n"
          ]
        }
      ]
    },
    {
      "cell_type": "markdown",
      "source": [
        "**Q12. Write a code to access the second-to-last element of the tuple ('red', 'green', 'blue', 'yellow').**"
      ],
      "metadata": {
        "id": "Sk0cYkSvMrd1"
      }
    },
    {
      "cell_type": "code",
      "source": [
        "colors = ('red', 'green', 'blue', 'yellow')\n",
        "second_last = colors[-2]\n",
        "print(\"Second-to-last element:\", second_last)\n"
      ],
      "metadata": {
        "colab": {
          "base_uri": "https://localhost:8080/"
        },
        "id": "6iBtoEG8Mw97",
        "outputId": "3f0a3f09-b7a8-4838-e3b7-e815adcb3371"
      },
      "execution_count": 18,
      "outputs": [
        {
          "output_type": "stream",
          "name": "stdout",
          "text": [
            "Second-to-last element: blue\n"
          ]
        }
      ]
    },
    {
      "cell_type": "markdown",
      "source": [
        "**Q13. Write a code to find the minimum number in the tuple (10, 20, 5, 15).**"
      ],
      "metadata": {
        "id": "Sdq8ksJQM6T6"
      }
    },
    {
      "cell_type": "code",
      "source": [
        "numbers = (10, 20, 5, 15)\n",
        "min_number = min(numbers)\n",
        "print(\"Minimum number:\", min_number)\n"
      ],
      "metadata": {
        "colab": {
          "base_uri": "https://localhost:8080/"
        },
        "id": "d9O4GnCFNBD_",
        "outputId": "ebbd47da-6896-4e5a-c23f-7e965771c713"
      },
      "execution_count": 19,
      "outputs": [
        {
          "output_type": "stream",
          "name": "stdout",
          "text": [
            "Minimum number: 5\n"
          ]
        }
      ]
    },
    {
      "cell_type": "markdown",
      "source": [
        "**Q14.  Write a code to find the index of the element \"cat\" in the tuple ('dog', 'cat', 'rabbit').**"
      ],
      "metadata": {
        "id": "3noNidgbNIdh"
      }
    },
    {
      "cell_type": "code",
      "source": [
        "animals = ('dog', 'cat', 'rabbit')\n",
        "index = animals.index('cat')\n",
        "print(\"Index of 'cat':\", index)\n"
      ],
      "metadata": {
        "colab": {
          "base_uri": "https://localhost:8080/"
        },
        "id": "5vdcmDnqNN9i",
        "outputId": "f4bfe947-87e3-4691-fd22-b49ff3417c35"
      },
      "execution_count": 20,
      "outputs": [
        {
          "output_type": "stream",
          "name": "stdout",
          "text": [
            "Index of 'cat': 1\n"
          ]
        }
      ]
    },
    {
      "cell_type": "markdown",
      "source": [
        "**Q15. Write a code to create a tuple containing three different fruits and check if \"kiwi\" is in it.**"
      ],
      "metadata": {
        "id": "xFAtraaXNc83"
      }
    },
    {
      "cell_type": "code",
      "source": [
        "fruits = (\"apple\", \"banana\", \"mango\")\n",
        "if \"kiwi\" in fruits:\n",
        "    print(\"Kiwi is in the tuple.\")\n",
        "else:\n",
        "    print(\"Kiwi is not in the tuple.\")\n"
      ],
      "metadata": {
        "colab": {
          "base_uri": "https://localhost:8080/"
        },
        "id": "6YzeRbizNjJT",
        "outputId": "faa8b11e-34b5-43f3-b935-ae07d4b69a40"
      },
      "execution_count": 21,
      "outputs": [
        {
          "output_type": "stream",
          "name": "stdout",
          "text": [
            "Kiwi is not in the tuple.\n"
          ]
        }
      ]
    },
    {
      "cell_type": "markdown",
      "source": [
        "**Q16. Write a code to create a set with the elements 'a', 'b', 'c' and print it.**"
      ],
      "metadata": {
        "id": "1uz0MFbmOH-Y"
      }
    },
    {
      "cell_type": "code",
      "source": [
        "my_set = {'a', 'b', 'c'}\n",
        "print(\"Set elements:\", my_set)"
      ],
      "metadata": {
        "colab": {
          "base_uri": "https://localhost:8080/"
        },
        "id": "uQoHH45eOOSJ",
        "outputId": "e15db61f-b956-489f-af76-3784b70027d8"
      },
      "execution_count": 22,
      "outputs": [
        {
          "output_type": "stream",
          "name": "stdout",
          "text": [
            "Set elements: {'b', 'a', 'c'}\n"
          ]
        }
      ]
    },
    {
      "cell_type": "markdown",
      "source": [
        "**Q17. Write a code to clear all elements from the set {1, 2, 3, 4, 5}.**"
      ],
      "metadata": {
        "id": "-Z88ACWpOdBc"
      }
    },
    {
      "cell_type": "code",
      "source": [
        "my_set = {1,2,3,4,5}\n",
        "my_set.clear()\n",
        "my_set"
      ],
      "metadata": {
        "colab": {
          "base_uri": "https://localhost:8080/"
        },
        "id": "kCopuwrvOieU",
        "outputId": "c8dfb75a-38e8-4f3d-88e4-a6cc383f3674"
      },
      "execution_count": 24,
      "outputs": [
        {
          "output_type": "execute_result",
          "data": {
            "text/plain": [
              "set()"
            ]
          },
          "metadata": {},
          "execution_count": 24
        }
      ]
    },
    {
      "cell_type": "markdown",
      "source": [
        "**Q18.  Write a code to remove the element 4 from the set {1, 2, 3, 4}.**"
      ],
      "metadata": {
        "id": "wnANW_KzO3II"
      }
    },
    {
      "cell_type": "code",
      "source": [
        "my_sets = {1,2,3,4}\n",
        "my_sets.remove(4)\n",
        "print(my_sets)"
      ],
      "metadata": {
        "colab": {
          "base_uri": "https://localhost:8080/"
        },
        "id": "M-dwrLeZO9fE",
        "outputId": "5ead8b59-0d64-436a-85d0-b21a797fa590"
      },
      "execution_count": 25,
      "outputs": [
        {
          "output_type": "stream",
          "name": "stdout",
          "text": [
            "{1, 2, 3}\n"
          ]
        }
      ]
    },
    {
      "cell_type": "markdown",
      "source": [
        "**Q19.  Write a code to find the union of two sets {1, 2, 3} and {3, 4, 5}.**"
      ],
      "metadata": {
        "id": "yP4rBtKWPM1K"
      }
    },
    {
      "cell_type": "code",
      "source": [
        "set1 = {1, 2, 3}\n",
        "set2 = {3, 4, 5}\n",
        "union_set = set1.union(set2)\n",
        "print(\"Union of sets:\", union_set)\n"
      ],
      "metadata": {
        "colab": {
          "base_uri": "https://localhost:8080/"
        },
        "id": "COFd4A4QPShU",
        "outputId": "f9edfc46-d873-481d-c241-5ab8ce1afccc"
      },
      "execution_count": 26,
      "outputs": [
        {
          "output_type": "stream",
          "name": "stdout",
          "text": [
            "Union of sets: {1, 2, 3, 4, 5}\n"
          ]
        }
      ]
    },
    {
      "cell_type": "markdown",
      "source": [
        "**Q20.  Write a code to find the intersection of two sets {1, 2, 3} and {2, 3, 4}.**"
      ],
      "metadata": {
        "id": "m9P5gd3XPfJF"
      }
    },
    {
      "cell_type": "code",
      "source": [
        "set1 = {1, 2, 3}\n",
        "set2 = {2, 3, 4}\n",
        "intersection_set = set1.intersection(set2)\n",
        "print(\"Intersection of sets:\", intersection_set)\n"
      ],
      "metadata": {
        "colab": {
          "base_uri": "https://localhost:8080/"
        },
        "id": "ZVxYbfRtPkh3",
        "outputId": "c4cbf5ee-42ca-4c16-c5b8-855cfab41ea9"
      },
      "execution_count": 27,
      "outputs": [
        {
          "output_type": "stream",
          "name": "stdout",
          "text": [
            "Intersection of sets: {2, 3}\n"
          ]
        }
      ]
    },
    {
      "cell_type": "markdown",
      "source": [
        "**Q21.  Write a code to create a dictionary with the keys \"name\", \"age\", and \"city\", and print it.**"
      ],
      "metadata": {
        "id": "rvZSGLjwP7ck"
      }
    },
    {
      "cell_type": "code",
      "source": [
        "my_dict = {\"name\" : \"Sakshi\",\"age\" : 22 ,\"city\": \"Kolkata\"}\n",
        "print(my_dict)"
      ],
      "metadata": {
        "colab": {
          "base_uri": "https://localhost:8080/"
        },
        "id": "cdnS1K7OQKCW",
        "outputId": "cee04805-9726-4513-ce83-c394c71010fb"
      },
      "execution_count": 28,
      "outputs": [
        {
          "output_type": "stream",
          "name": "stdout",
          "text": [
            "{'name': 'Sakshi', 'age': 22, 'city': 'Kolkata'}\n"
          ]
        }
      ]
    },
    {
      "cell_type": "markdown",
      "source": [
        "**Q22. Write a code to add a new key-value pair \"country\": \"USA\" to the dictionary {'name': 'John', 'age': 25}.**"
      ],
      "metadata": {
        "id": "d0tXMIXdQ9io"
      }
    },
    {
      "cell_type": "code",
      "source": [
        "person = {'name': 'John', 'age': 25}\n",
        "person['country'] = 'USA'\n",
        "print(\"Updated dictionary:\", person)\n"
      ],
      "metadata": {
        "colab": {
          "base_uri": "https://localhost:8080/"
        },
        "id": "6FdikyDBRkHc",
        "outputId": "79fae4a5-5881-4468-8bf4-a876336b466d"
      },
      "execution_count": 29,
      "outputs": [
        {
          "output_type": "stream",
          "name": "stdout",
          "text": [
            "Updated dictionary: {'name': 'John', 'age': 25, 'country': 'USA'}\n"
          ]
        }
      ]
    },
    {
      "cell_type": "markdown",
      "source": [
        "**Q23. Write a code to access the value associated with the key \"name\" in the dictionary {'name': 'Alice', 'age': 30}.**"
      ],
      "metadata": {
        "id": "ZNUwIRvsRphj"
      }
    },
    {
      "cell_type": "code",
      "source": [
        "person = {'name': 'Alice', 'age': 30}\n",
        "name_value = person['name']\n",
        "print(\"Name:\", name_value)\n"
      ],
      "metadata": {
        "colab": {
          "base_uri": "https://localhost:8080/"
        },
        "id": "dt44LVuMRxeN",
        "outputId": "499299de-41b7-4843-e07f-e7c8dcfadfff"
      },
      "execution_count": 30,
      "outputs": [
        {
          "output_type": "stream",
          "name": "stdout",
          "text": [
            "Name: Alice\n"
          ]
        }
      ]
    },
    {
      "cell_type": "markdown",
      "source": [
        "**Q24. Write a code to remove the key \"age\" from the dictionary {'name': 'Bob', 'age': 22, 'city': 'New York'}.**"
      ],
      "metadata": {
        "id": "Wj-NGP6VR-0r"
      }
    },
    {
      "cell_type": "code",
      "source": [
        "person = {'name': 'Bob', 'age': 22, 'city': 'New York'}\n",
        "person.pop('age')\n",
        "print(\"Updated dictionary:\", person)\n"
      ],
      "metadata": {
        "colab": {
          "base_uri": "https://localhost:8080/"
        },
        "id": "twJYPe-4SGyB",
        "outputId": "4f87ab1d-811b-4da1-ca46-2cd5fdfab8a9"
      },
      "execution_count": 31,
      "outputs": [
        {
          "output_type": "stream",
          "name": "stdout",
          "text": [
            "Updated dictionary: {'name': 'Bob', 'city': 'New York'}\n"
          ]
        }
      ]
    },
    {
      "cell_type": "markdown",
      "source": [
        "**Q25. Write a code to check if the key \"city\" exists in the dictionary {'name': 'Alice', 'city': 'Paris'}.**"
      ],
      "metadata": {
        "id": "G4bjQDFISOdc"
      }
    },
    {
      "cell_type": "code",
      "source": [
        "person =  {'name': 'Alice', 'city': 'Paris'}\n",
        "if 'city' in person:\n",
        "    print(\"Key 'city' exists in the dictionary.\")\n",
        "else:\n",
        "    print(\"Key 'city' does not exist in the dictionary.\")"
      ],
      "metadata": {
        "colab": {
          "base_uri": "https://localhost:8080/"
        },
        "id": "BWkUSl30STk_",
        "outputId": "a1fb3027-5700-4735-f209-feb22b98e93a"
      },
      "execution_count": 32,
      "outputs": [
        {
          "output_type": "stream",
          "name": "stdout",
          "text": [
            "Key 'city' exists in the dictionary.\n"
          ]
        }
      ]
    },
    {
      "cell_type": "markdown",
      "source": [
        "**Q26.  Write a code to create a list, a tuple, and a dictionary, and print them all.**"
      ],
      "metadata": {
        "id": "sLw69n8GSkig"
      }
    },
    {
      "cell_type": "code",
      "source": [
        "\n",
        "my_list = [1, 2, 3, 4, 5]\n",
        "\n",
        "my_tuple = (\"apple\", \"banana\", \"cherry\")\n",
        "\n",
        "my_dict = {\"name\": \"Alice\", \"age\": 25, \"city\": \"Paris\"}\n",
        "\n",
        "print(\"List:\", my_list)\n",
        "print(\"Tuple:\", my_tuple)\n",
        "print(\"Dictionary:\", my_dict)\n"
      ],
      "metadata": {
        "colab": {
          "base_uri": "https://localhost:8080/"
        },
        "id": "N3E5Nf60Sp3d",
        "outputId": "12942f0a-c4f1-4b49-bc7e-09104dd2a663"
      },
      "execution_count": 33,
      "outputs": [
        {
          "output_type": "stream",
          "name": "stdout",
          "text": [
            "List: [1, 2, 3, 4, 5]\n",
            "Tuple: ('apple', 'banana', 'cherry')\n",
            "Dictionary: {'name': 'Alice', 'age': 25, 'city': 'Paris'}\n"
          ]
        }
      ]
    },
    {
      "cell_type": "markdown",
      "source": [
        "Q27.  Write a code to create a list of 5 random numbers between 1 and 100, sort it in ascending order, and print the result.(replaced). **bold text**"
      ],
      "metadata": {
        "id": "Kxjmf-dOS2cz"
      }
    },
    {
      "cell_type": "code",
      "source": [
        "import random\n",
        "\n",
        "random_numbers = [random.randint(1, 100) for _ in range(5)]\n",
        "random_numbers.sort()\n",
        "print(\"Sorted random numbers:\", random_numbers)\n"
      ],
      "metadata": {
        "colab": {
          "base_uri": "https://localhost:8080/"
        },
        "id": "RjRWtgE3S-Bc",
        "outputId": "cbae71e1-ec1f-474c-b65d-001c80495605"
      },
      "execution_count": 34,
      "outputs": [
        {
          "output_type": "stream",
          "name": "stdout",
          "text": [
            "Sorted random numbers: [9, 27, 42, 48, 61]\n"
          ]
        }
      ]
    },
    {
      "cell_type": "markdown",
      "source": [
        "**Q28. Write a code to create a list with strings and print the element at the third index.**"
      ],
      "metadata": {
        "id": "_Tjq6FxnTNTN"
      }
    },
    {
      "cell_type": "code",
      "source": [
        "words = [\"apple\", \"banana\", \"cherry\", \"date\", \"fig\"]\n",
        "print(\"Element at third index:\", words[3])\n"
      ],
      "metadata": {
        "colab": {
          "base_uri": "https://localhost:8080/"
        },
        "id": "Na2VnsuqTjWz",
        "outputId": "fe41ae6e-a902-4459-9941-12f11e098883"
      },
      "execution_count": 35,
      "outputs": [
        {
          "output_type": "stream",
          "name": "stdout",
          "text": [
            "Element at third index: date\n"
          ]
        }
      ]
    },
    {
      "cell_type": "markdown",
      "source": [
        "**Q29. Write a code to combine two dictionaries into one and print the result.**"
      ],
      "metadata": {
        "id": "X05yJakHTn47"
      }
    },
    {
      "cell_type": "code",
      "source": [
        "dict1 = {\"name\": \"Alice\", \"age\": 25}\n",
        "dict2 = {\"city\": \"Paris\", \"country\": \"France\"}\n",
        "\n",
        "combined_dict = {**dict1, **dict2}\n",
        "\n",
        "print(\"Combined dictionary:\", combined_dict)\n"
      ],
      "metadata": {
        "colab": {
          "base_uri": "https://localhost:8080/"
        },
        "id": "xGl0JJoRTwyt",
        "outputId": "09adf026-e2c7-409c-be92-2bc9c4107aa3"
      },
      "execution_count": 36,
      "outputs": [
        {
          "output_type": "stream",
          "name": "stdout",
          "text": [
            "Combined dictionary: {'name': 'Alice', 'age': 25, 'city': 'Paris', 'country': 'France'}\n"
          ]
        }
      ]
    },
    {
      "cell_type": "markdown",
      "source": [
        "**Q30. Write a code to convert a list of strings into a set.**"
      ],
      "metadata": {
        "id": "YtWOOc6wT509"
      }
    },
    {
      "cell_type": "code",
      "source": [
        "string_list = [\"apple\", \"banana\", \"cherry\", \"apple\"]\n",
        "string_set = set(string_list)\n",
        "print(\"Set:\", string_set)\n"
      ],
      "metadata": {
        "colab": {
          "base_uri": "https://localhost:8080/"
        },
        "id": "I0VAfAzQT_qp",
        "outputId": "f8cd4321-eb89-406b-bbab-acca9aba3a7c"
      },
      "execution_count": 37,
      "outputs": [
        {
          "output_type": "stream",
          "name": "stdout",
          "text": [
            "Set: {'cherry', 'banana', 'apple'}\n"
          ]
        }
      ]
    }
  ]
}